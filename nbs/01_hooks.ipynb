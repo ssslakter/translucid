{
 "cells": [
  {
   "cell_type": "code",
   "execution_count": null,
   "metadata": {},
   "outputs": [],
   "source": [
    "#| default_exp opt.hooks"
   ]
  },
  {
   "cell_type": "code",
   "execution_count": null,
   "metadata": {},
   "outputs": [],
   "source": [
    "#| export\n",
    "import torch\n",
    "from torch import nn\n",
    "from collections import OrderedDict\n"
   ]
  },
  {
   "cell_type": "code",
   "execution_count": null,
   "metadata": {},
   "outputs": [],
   "source": [
    "from torch.utils.data import DataLoader\n",
    "from torch import optim\n",
    "from fastcore.all import *\n",
    "from pathlib import Path\n",
    "import torch.nn.functional as F\n",
    "from fastprogress import master_bar, progress_bar\n",
    "from fastprogress import progress_bar\n"
   ]
  },
  {
   "cell_type": "code",
   "execution_count": null,
   "metadata": {},
   "outputs": [],
   "source": [
    "model = models.googlenet(weights='IMAGENET1K_V1')"
   ]
  },
  {
   "cell_type": "code",
   "execution_count": null,
   "metadata": {},
   "outputs": [],
   "source": [
    "# | export\n",
    "\n",
    "class CancelFitException(Exception): pass\n",
    "\n",
    "\n",
    "class Hook:\n",
    "    def __init__(self, module: nn.Module, fn, when='forward'):\n",
    "        attr = f'register_full_{when}_hook' if when == 'backward' else f'register_{when}_hook'\n",
    "        self.hook = getattr(module, attr)(self._wrap_fn(fn))\n",
    "\n",
    "    def remove(self): self.hook.remove()\n",
    "\n",
    "    def _wrap_fn(self, fn):\n",
    "        def _inner(*args, **kwargs):\n",
    "            return fn(self, *args, **kwargs)\n",
    "        return _inner\n",
    "\n",
    "    def __del__(self): self.remove()\n",
    "\n",
    "\n",
    "class HooksCtx:\n",
    "    def __delitem__(self, i):\n",
    "        self[i].remove()\n",
    "        del super()[i]\n",
    "\n",
    "    def remove(self): raise NotImplementedError\n",
    "    def __del__(self): self.remove()\n",
    "    def __enter__(self): return self\n",
    "\n",
    "    def __exit__(self, exc_type, exc_value, _):\n",
    "        self.remove()\n",
    "        if exc_type == CancelFitException:\n",
    "            print(f'Cancelled fit at {exc_value}')\n",
    "            return True\n",
    "\n",
    "\n",
    "class Hooks(list, HooksCtx):\n",
    "    def __init__(self, *ms, fn, when='forward'): \n",
    "        super().__init__([Hook(m, fn, when) for m in ms])\n",
    "\n",
    "    def remove(self):\n",
    "        for h in self: h.remove()\n",
    "\n",
    "\n",
    "class NamedHooks(OrderedDict, HooksCtx):\n",
    "    def __init__(self, mdict: dict, fn, when='forward'):\n",
    "        super().__init__({k: Hook(m, fn, when) for k, m in mdict})\n",
    "\n",
    "    def remove(self):\n",
    "        for h in self.values(): h.remove()"
   ]
  },
  {
   "cell_type": "code",
   "execution_count": null,
   "metadata": {},
   "outputs": [
    {
     "name": "stdout",
     "output_type": "stream",
     "text": [
      "('conv1', torch.Size([2, 64, 150, 199]))\n",
      "('maxpool1', torch.Size([2, 64, 75, 99]))\n",
      "('conv2', torch.Size([2, 64, 75, 99]))\n",
      "('conv3', torch.Size([2, 192, 75, 99]))\n",
      "('maxpool2', torch.Size([2, 192, 37, 49]))\n",
      "('inception3a', torch.Size([2, 256, 37, 49]))\n",
      "('inception3b', torch.Size([2, 480, 37, 49]))\n",
      "('maxpool3', torch.Size([2, 480, 18, 24]))\n",
      "('inception4a', torch.Size([2, 512, 18, 24]))\n",
      "('inception4b', torch.Size([2, 512, 18, 24]))\n",
      "('inception4c', torch.Size([2, 512, 18, 24]))\n",
      "('inception4d', torch.Size([2, 528, 18, 24]))\n",
      "('inception4e', torch.Size([2, 832, 18, 24]))\n",
      "('maxpool4', torch.Size([2, 832, 9, 12]))\n",
      "('inception5a', torch.Size([2, 832, 9, 12]))\n",
      "('inception5b', torch.Size([2, 1024, 9, 12]))\n",
      "('avgpool', torch.Size([2, 1024, 1, 1]))\n",
      "('dropout', torch.Size([2, 1024]))\n",
      "('fc', torch.Size([2, 1000]))\n"
     ]
    }
   ],
   "source": [
    "def get_shape(self, module, input, output):\n",
    "    self.data = output.shape\n",
    "\n",
    "with NamedHooks(model.named_children(), fn=get_shape) as hooks: model(xb)\n",
    "for name, h in hooks.items():\n",
    "    print((name, h.data))"
   ]
  }
 ],
 "metadata": {
  "kernelspec": {
   "display_name": "python3",
   "language": "python",
   "name": "python3"
  }
 },
 "nbformat": 4,
 "nbformat_minor": 2
}
